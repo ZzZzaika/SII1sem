{
 "cells": [
  {
   "cell_type": "code",
   "execution_count": 105,
   "id": "d8dcb279-8049-43f2-ab47-063bf2d9310d",
   "metadata": {},
   "outputs": [],
   "source": [
    "import pandas as pd\n",
    "\n",
    "data = pd.read_csv(\"titanic_train.csv\", index_col='PassengerId')"
   ]
  },
  {
   "cell_type": "code",
   "execution_count": 106,
   "id": "c3cb3302-27d2-40fd-b1ac-c8eca9c91bee",
   "metadata": {},
   "outputs": [
    {
     "name": "stdout",
     "output_type": "stream",
     "text": [
      "Количество мужчин и женщин:\n",
      "Sex\n",
      "male      577\n",
      "female    314\n",
      "Name: count, dtype: int64\n"
     ]
    }
   ],
   "source": [
    "print(\"Количество мужчин и женщин:\")\n",
    "print(data['Sex'].value_counts())"
   ]
  },
  {
   "cell_type": "code",
   "execution_count": 119,
   "id": "a610a174-9533-4f02-bb73-cc417d0403e6",
   "metadata": {},
   "outputs": [
    {
     "name": "stdout",
     "output_type": "stream",
     "text": [
      "Распределение по классам для мужчин и женщин:\n",
      "Pclass    1    2    3\n",
      "Sex                  \n",
      "female   94   76  144\n",
      "male    122  108  347\n",
      "\n",
      "Количество мужчин из второго класса: 108\n",
      "Количество людей из второго класса: 184\n"
     ]
    }
   ],
   "source": [
    "print(\"Распределение по классам для мужчин и женщин:\")\n",
    "sex_and_pclass = data.groupby(['Sex', 'Pclass']).size().unstack()\n",
    "print(sex_and_pclass)\n",
    "\n",
    "num_male = data[(data['Sex'] == 'male') & (data['Pclass'] == 2)].shape[0]\n",
    "print(f\"\\nКоличество мужчин из второго класса: {num_male}\")\n",
    "pclass2_total = (data['Pclass'] == 2).sum()\n",
    "print(f\"Количество людей из второго класса: {pclass2_total}\")"
   ]
  },
  {
   "cell_type": "code",
   "execution_count": 108,
   "id": "efada3f6-b632-4205-8cdb-2873618b9532",
   "metadata": {},
   "outputs": [
    {
     "name": "stdout",
     "output_type": "stream",
     "text": [
      "Медиана Fare: 14.45\n",
      "Стандартное отклонение Fare: 49.69\n"
     ]
    }
   ],
   "source": [
    "median_fare = round(data['Fare'].median(), 2)\n",
    "std_fare = round(data['Fare'].std(), 2)\n",
    "\n",
    "print(f\"Медиана Fare: {median_fare}\")\n",
    "print(f\"Стандартное отклонение Fare: {std_fare}\")"
   ]
  },
  {
   "cell_type": "code",
   "execution_count": 109,
   "id": "b2768154-fe14-41ad-ade4-970766682dd5",
   "metadata": {},
   "outputs": [
    {
     "name": "stdout",
     "output_type": "stream",
     "text": [
      "Средний возраст выживших: 28.34\n",
      "Средний возраст погибших: 30.63\n",
      "Ответ: Нет, средний возраст выживших не выше, чем у погибших.\n"
     ]
    }
   ],
   "source": [
    "age_survived = data[data['Survived'] == 1]['Age'].mean()\n",
    "age_not_survived = data[data['Survived'] == 0]['Age'].mean()\n",
    "\n",
    "print(f\"Средний возраст выживших: {round(age_survived, 2)}\")\n",
    "print(f\"Средний возраст погибших: {round(age_not_survived, 2)}\")\n",
    "\n",
    "if age_survived > age_not_survived:\n",
    "    print(\"Ответ: Да, средний возраст выживших выше, чем у погибших.\")\n",
    "else:\n",
    "    print(\"Ответ: Нет, средний возраст выживших не выше, чем у погибших.\")"
   ]
  },
  {
   "cell_type": "code",
   "execution_count": 110,
   "id": "557d5d4a-0acc-4b8f-85f0-41895f9457dc",
   "metadata": {},
   "outputs": [
    {
     "name": "stdout",
     "output_type": "stream",
     "text": [
      "Да, пассажиры моложе 30 лет выживали чаще, чем те, кому больше 60 лет.\n",
      "Доля выживших среди молодых (<30): 40.6 %\n",
      "Доля выживших среди пожилых (>60): 22.7 %\n"
     ]
    }
   ],
   "source": [
    "young = data[data['Age'] < 30]\n",
    "old = data[data['Age'] > 60]\n",
    "\n",
    "young_survived = young['Survived'].mean() * 100\n",
    "old_survived = old['Survived'].mean() * 100\n",
    "\n",
    "if young_survived > old_survived:\n",
    "    print(\"Да, пассажиры моложе 30 лет выживали чаще, чем те, кому больше 60 лет.\")\n",
    "else:\n",
    "    print(\"Нет, пассажиры моложе 30 лет выживали не чаще, чем те, кому было 60 лет.\")\n",
    "\n",
    "print(f\"Доля выживших среди молодых (<30): {round(young_survived, 1)} %\")\n",
    "print(f\"Доля выживших среди пожилых (>60): {round(old_survived, 1)} %\")"
   ]
  },
  {
   "cell_type": "code",
   "execution_count": 111,
   "id": "ae41ad94-e0f6-489e-9f73-853d4925662d",
   "metadata": {},
   "outputs": [
    {
     "name": "stdout",
     "output_type": "stream",
     "text": [
      "Да, женщины выживали чаще мужчин.\n",
      "Доля выживших среди мужчин: 18.9 %\n",
      "Доля выживших среди женщин: 74.2 %\n"
     ]
    }
   ],
   "source": [
    "survival_by_sex = data.groupby('Sex')['Survived'].mean() * 100\n",
    "\n",
    "if survival_by_sex['female'] > survival_by_sex['male']:\n",
    "    print(\"Да, женщины выживали чаще мужчин.\")\n",
    "else:\n",
    "    print(\"Нет, мужчины выживали чаще женщин.\")\n",
    "\n",
    "print(f\"Доля выживших среди мужчин: {round(survival_by_sex['male'], 1)} %\")\n",
    "print(f\"Доля выживших среди женщин: {round(survival_by_sex['female'], 1)} %\")"
   ]
  },
  {
   "cell_type": "code",
   "execution_count": 112,
   "id": "37c49942-c76b-456e-a6e5-40b032ae7425",
   "metadata": {},
   "outputs": [
    {
     "name": "stdout",
     "output_type": "stream",
     "text": [
      "ЭТО ПОДСЧЁТ ТИТУЛОВ У МУЖЧИН (не входит в задание, нужен для следующей ячейки).\n",
      "Name\n",
      "Mr          517\n",
      "Master       40\n",
      "Rev           6\n",
      "Dr            6\n",
      "Major         2\n",
      "Col           2\n",
      "Don           1\n",
      "Sir           1\n",
      "Capt          1\n",
      "Jonkheer      1\n",
      "Name: count, dtype: int64\n"
     ]
    }
   ],
   "source": [
    "print(\"ЭТО ПОДСЧЁТ ТИТУЛОВ У МУЖЧИН (не входит в задание, нужен для следующей ячейки).\")\n",
    "male = data[data['Sex'] == 'male']\n",
    "male_titles = male['Name'].str.extract(r',\\s*([^\\.]+)\\.', expand=False)\n",
    "print(male_titles.value_counts())"
   ]
  },
  {
   "cell_type": "code",
   "execution_count": 113,
   "id": "e358e58f-444f-4ad2-a6a6-69c194cff829",
   "metadata": {},
   "outputs": [
    {
     "name": "stdout",
     "output_type": "stream",
     "text": [
      "Самое популярное мужское имя: William (35 раз).\n"
     ]
    }
   ],
   "source": [
    "male = data[data['Sex'] == 'male']['Name']\n",
    "male_names = male.str.extract(r'(?:Mr\\.|Master\\.|Rev\\.|Dr\\.|Major\\.|Col\\.|Don\\.|Sir\\.|Capt\\.|Jonkheer\\.)\\s+([A-Za-z]+)', expand=False)\n",
    "counts = male_names.value_counts()\n",
    "\n",
    "top_name = counts.idxmax()\n",
    "top_count = counts.max()\n",
    "print(f\"Самое популярное мужское имя: {top_name} ({top_count} раз).\")"
   ]
  },
  {
   "cell_type": "code",
   "execution_count": 114,
   "id": "8930c65f-f7a3-4be7-9261-076ccb96b3a4",
   "metadata": {},
   "outputs": [
    {
     "name": "stdout",
     "output_type": "stream",
     "text": [
      "\n",
      "Средний возраст пассажиров в зависимости от пола и класса:\n",
      "Sex     Pclass\n",
      "female  1         34.6\n",
      "        2         28.7\n",
      "        3         21.8\n",
      "male    1         41.3\n",
      "        2         30.7\n",
      "        3         26.5\n",
      "Name: Age, dtype: float64\n",
      "\n",
      "Верные утверждения:\n",
      "- В среднем мужчины 1 класса старше 40 лет\n",
      "- Мужчины всех классов старше женщин того же класса\n",
      "- В среднем, пассажиры 1 класса старше 2-го, а те старше 3-го\n"
     ]
    }
   ],
   "source": [
    "age_by_sex = data.groupby(['Sex', 'Pclass'])['Age'].mean()\n",
    "age_and_class = data.groupby('Pclass')['Age'].mean()\n",
    "\n",
    "print(\"\\nСредний возраст пассажиров в зависимости от пола и класса:\")\n",
    "print(round(age_by_sex, 1))\n",
    "\n",
    "print(\"\\nВерные утверждения:\")\n",
    "\n",
    "# 1. В среднем мужчины 1 класса старше 40 лет\n",
    "if age_by_sex['male', 1] > 40:\n",
    "    print(\"- В среднем мужчины 1 класса старше 40 лет\")\n",
    "\n",
    "# 2. В среднем женщины 1 класса старше 40 лет\n",
    "if age_by_sex['female', 1] > 40:\n",
    "    print(\"- В среднем женщины 1 класса старше 40 лет\")\n",
    "\n",
    "# 3. Мужчины всех классов старше женщин того же класса\n",
    "if all(age_by_sex['male', c] > age_by_sex['female', c] for c in [1, 2, 3]):\n",
    "    print(\"- Мужчины всех классов старше женщин того же класса\")\n",
    "\n",
    "# 4. Пассажиры 1 > 2 > 3 по возрасту\n",
    "if age_and_class[1] > age_and_class[2] > age_and_class[3]:\n",
    "    print(\"- В среднем, пассажиры 1 класса старше 2-го, а те старше 3-го\")"
   ]
  }
 ],
 "metadata": {
  "kernelspec": {
   "display_name": "Python [conda env:base] *",
   "language": "python",
   "name": "conda-base-py"
  },
  "language_info": {
   "codemirror_mode": {
    "name": "ipython",
    "version": 3
   },
   "file_extension": ".py",
   "mimetype": "text/x-python",
   "name": "python",
   "nbconvert_exporter": "python",
   "pygments_lexer": "ipython3",
   "version": "3.13.5"
  }
 },
 "nbformat": 4,
 "nbformat_minor": 5
}
